{
 "cells": [
  {
   "cell_type": "code",
   "execution_count": 74,
   "metadata": {},
   "outputs": [],
   "source": [
    "import pandas as pd\n",
    "import numpy as np\n",
    "import sklearn as sk\n",
    "from sklearn.linear_model import LinearRegression\n",
    "import matplotlib.pyplot as plt\n",
    "from sklearn import metrics, datasets\n",
    "from sklearn.linear_model import LogisticRegression\n",
    "import matplotlib.patches as mpatches\n",
    "from sklearn.metrics import confusion_matrix, accuracy_score\n"
   ]
  },
  {
   "cell_type": "code",
   "execution_count": 75,
   "metadata": {},
   "outputs": [],
   "source": [
    "data = pd.read_csv(\"data/austin_weather.csv\")\n"
   ]
  },
  {
   "cell_type": "code",
   "execution_count": 76,
   "metadata": {},
   "outputs": [
    {
     "name": "stdout",
     "output_type": "stream",
     "text": [
      "(1319, 17)\n"
     ]
    }
   ],
   "source": [
    "clean_data = data.drop(['Events','Date','SeaLevelPressureHighInches','SeaLevelPressureLowInches'], axis = 1)\n",
    "clean_data['TempHighF'].replace('-','0', inplace=True)\n",
    "clean_data['TempAvgF'].replace('-','0', inplace=True)\n",
    "clean_data['TempLowF'].replace('-','0', inplace=True)\n",
    "clean_data['DewPointHighF'].replace('-','0', inplace=True)\n",
    "clean_data['DewPointAvgF'].replace('-','0', inplace=True)\n",
    "clean_data['DewPointLowF'].replace('-','0', inplace=True)\n",
    "clean_data['HumidityHighPercent'].replace('-','0', inplace=True)\n",
    "clean_data['HumidityAvgPercent'].replace('-','0', inplace=True)\n",
    "clean_data['HumidityLowPercent'].replace('-','0', inplace=True)\n",
    "#cleaned_data['SeaLevelPressureHighInches'].replace('-','0', inplace=True)\n",
    "clean_data['SeaLevelPressureAvgInches'].replace('-','0', inplace=True)\n",
    "#cleaned_data['SeaLevelPressureLowInches'].replace('-','0', inplace=True)\n",
    "clean_data['VisibilityHighMiles'].replace('-','0', inplace=True)\n",
    "clean_data['VisibilityAvgMiles'].replace('-','0', inplace=True)\n",
    "clean_data['VisibilityLowMiles'].replace('-','0', inplace=True)\n",
    "clean_data['WindHighMPH'].replace('-','0', inplace=True)\n",
    "clean_data['WindAvgMPH'].replace('-','0', inplace=True)\n",
    "clean_data['WindGustMPH'].replace('-','0', inplace=True)\n",
    "\n",
    "\n",
    "\n",
    "clean_data['PrecipitationSumInches'].replace('T','0.001', inplace=True)\n",
    "print(clean_data.shape)"
   ]
  },
  {
   "cell_type": "code",
   "execution_count": null,
   "metadata": {},
   "outputs": [],
   "source": [
    "with pd.option_context('display.max_rows', None, 'display.max_columns', None):  # more options can be specified also\n",
    "    print(clean_data)"
   ]
  },
  {
   "cell_type": "code",
   "execution_count": null,
   "metadata": {},
   "outputs": [],
   "source": [
    "from sklearn.model_selection import train_test_split\n",
    "\n",
    "train, test = train_test_split(clean_data, test_size=0.3, random_state = 142)\n",
    "print(test.shape)\n",
    "print(train.shape)"
   ]
  },
  {
   "cell_type": "code",
   "execution_count": null,
   "metadata": {},
   "outputs": [],
   "source": [
    "X_train=train.drop(['PrecipitationSumInches'], axis = 1)\n",
    "y_train = train['PrecipitationSumInches']\n",
    "X_test=test.drop(['PrecipitationSumInches'], axis = 1)\n",
    "y_test = test['PrecipitationSumInches']\n",
    "print(\"X_train:\" ,X_train.shape)\n",
    "print(\"y_train:\" ,y_train.shape)\n",
    "print(\"X_test:\" ,X_test.shape)\n",
    "print(\"y_train:\" ,y_test.shape)"
   ]
  },
  {
   "cell_type": "code",
   "execution_count": null,
   "metadata": {},
   "outputs": [],
   "source": [
    "from sklearn.linear_model import LogisticRegression\n",
    "\n",
    "model = LogisticRegression()\n",
    "model.fit(X_train, y_train)"
   ]
  }
 ],
 "metadata": {
  "kernelspec": {
   "display_name": "Python 3",
   "language": "python",
   "name": "python3"
  },
  "language_info": {
   "codemirror_mode": {
    "name": "ipython",
    "version": 3
   },
   "file_extension": ".py",
   "mimetype": "text/x-python",
   "name": "python",
   "nbconvert_exporter": "python",
   "pygments_lexer": "ipython3",
   "version": "3.7.3"
  }
 },
 "nbformat": 4,
 "nbformat_minor": 2
}
