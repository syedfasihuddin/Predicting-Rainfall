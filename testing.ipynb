{
 "cells": [
  {
   "cell_type": "code",
   "execution_count": 74,
   "metadata": {},
   "outputs": [],
   "source": [
    "import pandas as pd\n",
    "import numpy as np\n",
    "import sklearn as sk\n",
    "from sklearn.linear_model import LinearRegression\n",
    "import matplotlib.pyplot as plt\n",
    "from sklearn import metrics, datasets\n",
    "from sklearn.linear_model import LogisticRegression\n",
    "import matplotlib.patches as mpatches\n",
    "from sklearn.metrics import confusion_matrix, accuracy_score\n"
   ]
  },
  {
   "cell_type": "code",
   "execution_count": 75,
   "metadata": {},
   "outputs": [],
   "source": [
    "data = pd.read_csv(\"data/austin_weather.csv\")\n"
   ]
  },
  {
   "cell_type": "code",
   "execution_count": 76,
   "metadata": {},
   "outputs": [
    {
     "name": "stdout",
     "output_type": "stream",
     "text": [
      "(1319, 17)\n"
     ]
    }
   ],
   "source": [
    "clean_data = data.drop(['Events','Date','SeaLevelPressureHighInches','SeaLevelPressureLowInches'], axis = 1)\n",
    "clean_data['TempHighF'].replace('-','0', inplace=True)\n",
    "clean_data['TempAvgF'].replace('-','0', inplace=True)\n",
    "clean_data['TempLowF'].replace('-','0', inplace=True)\n",
    "clean_data['DewPointHighF'].replace('-','0', inplace=True)\n",
    "clean_data['DewPointAvgF'].replace('-','0', inplace=True)\n",
    "clean_data['DewPointLowF'].replace('-','0', inplace=True)\n",
    "clean_data['HumidityHighPercent'].replace('-','0', inplace=True)\n",
    "clean_data['HumidityAvgPercent'].replace('-','0', inplace=True)\n",
    "clean_data['HumidityLowPercent'].replace('-','0', inplace=True)\n",
    "#cleaned_data['SeaLevelPressureHighInches'].replace('-','0', inplace=True)\n",
    "clean_data['SeaLevelPressureAvgInches'].replace('-','0', inplace=True)\n",
    "#cleaned_data['SeaLevelPressureLowInches'].replace('-','0', inplace=True)\n",
    "clean_data['VisibilityHighMiles'].replace('-','0', inplace=True)\n",
    "clean_data['VisibilityAvgMiles'].replace('-','0', inplace=True)\n",
    "clean_data['VisibilityLowMiles'].replace('-','0', inplace=True)\n",
    "clean_data['WindHighMPH'].replace('-','0', inplace=True)\n",
    "clean_data['WindAvgMPH'].replace('-','0', inplace=True)\n",
    "clean_data['WindGustMPH'].replace('-','0', inplace=True)\n",
    "\n",
    "\n",
    "\n",
    "clean_data['PrecipitationSumInches'].replace('T','0.001', inplace=True)\n",
    "print(clean_data.shape)"
   ]
  }
 ],
 "metadata": {
  "kernelspec": {
   "display_name": "Python 3",
   "language": "python",
   "name": "python3"
  },
  "language_info": {
   "codemirror_mode": {
    "name": "ipython",
    "version": 3
   },
   "file_extension": ".py",
   "mimetype": "text/x-python",
   "name": "python",
   "nbconvert_exporter": "python",
   "pygments_lexer": "ipython3",
   "version": "3.7.4"
  }
 },
 "nbformat": 4,
 "nbformat_minor": 2
}
